{
 "cells": [
  {
   "cell_type": "markdown",
   "metadata": {},
   "source": [
    "## Playing with BERT base fucionality locally"
   ]
  },
  {
   "cell_type": "markdown",
   "metadata": {},
   "source": [
    "Notebook was inspired by content of https://github.com/google-research/bert.\n",
    "All models from smallest to to standard one could be downloaded from\n",
    "https://storage.googleapis.com/bert_models/2020_02_20/all_bert_models.zip\n",
    "Models were downloaded and uzipped to subirectory models. Everything was done in Conda prepared environment."
   ]
  },
  {
   "cell_type": "markdown",
   "metadata": {},
   "source": [
    "---\n",
    "\n",
    "### Other useful links\n",
    "1. [BERT Explained: A Complete Guide with Theory and Tutorial](https://towardsml.com/2019/09/17/bert-explained-a-complete-guide-with-theory-and-tutorial/)\n",
    "2. [BERT](https://medium.com/@shoray.goel/bert-f6d23b06069f)\n",
    "3. Video [LSTM is dead. Long Live Transformers!](https://www.youtube.com/watch?v=S27pHKBEp30)\n",
    "4. Video [BERT Explained!](https://www.youtube.com/watch?v=OR0wfP2FD3c)\n",
    "5. [What does BERT know about books, movies and music? Probing BERT for Conversational Recommendation](https://arxiv.org/pdf/2007.15356.pdf)\n",
    "6. [SpanBERT: Improving Pre-training by Representing and Predicting Spans](https://arxiv.org/pdf/1907.10529.pdf)\n",
    "\n",
    "---"
   ]
  },
  {
   "cell_type": "markdown",
   "metadata": {},
   "source": [
    "Notebook shows how BERT predicts Next entence(NSP mode).\n",
    "There is also another mode ie MSM( not presented here).\n",
    "\n",
    "Downloaded different sizes of the BERT models are used \n",
    "token_input, seg_input, mask_input are generated based on given sentence with MASK-ed words\n",
    "`BERT` expect that those 3 vectors will be  512 long : `token_input`, `seg_input` and  `mask_input`.\n",
    "\n",
    "`token_input` as a first token has `[CLS]` and sentence ends with `[SEP]`. In case only one sentence there is one  `[SEP]` if there are two sentences there are two  `[SEP]`.\n",
    "Additionally  `token_input` could have `[MASK]`.\n",
    "Places where  `token_input` has `[MASK]` in vector `mask_input` have \"1\" (other places are \"0\").\n"
   ]
  },
  {
   "cell_type": "code",
   "execution_count": 1,
   "metadata": {},
   "outputs": [],
   "source": [
    "import numpy as np\n",
    "from keras_bert import load_trained_model_from_checkpoint\n",
    "import tokenization # source --> https://github.com/google-research/bert/blob/master/tokenization.py"
   ]
  },
  {
   "cell_type": "code",
   "execution_count": null,
   "metadata": {},
   "outputs": [],
   "source": [
    "def init_tokenizer_and_load_bert(model_name='uncased_L-2_H-128_A-2', do_lower_case=True, model_trainable=False):\n",
    "    model_dir = './models/{}'.format(model_name)\n",
    "\n",
    "    config_path = model_dir + '/bert_config.json'\n",
    "    checkpoint_path = model_dir +'/bert_model.ckpt'\n",
    "    vocab_path = model_dir + '/vocab.txt'\n",
    "    \n",
    "    print(\"loading: {}\".format(model_name))\n",
    "    \n",
    "    tokenizer = tokenization.FullTokenizer(vocab_file=vocab_path, do_lower_case=do_lower_case)\n",
    "    print(\"vocab size: {}\".format(len(tokenizer.vocab)))\n",
    "    \n",
    "    model = load_trained_model_from_checkpoint(config_path, checkpoint_path, training=model_trainable)\n",
    "    print(\"loaded: {}\".format(model_name))\n",
    "    \n",
    "    return tokenizer, model"
   ]
  },
  {
   "cell_type": "code",
   "execution_count": 3,
   "metadata": {},
   "outputs": [
    {
     "name": "stdout",
     "output_type": "stream",
     "text": [
      "loading: uncased_L-2_H-128_A-2\n",
      "vocab size: 30522\n",
      "loaded: uncased_L-2_H-128_A-2\n"
     ]
    }
   ],
   "source": [
    "tokenizer, model = init_tokenizer_and_load_bert('uncased_L-2_H-128_A-2', model_trainable=True)"
   ]
  },
  {
   "cell_type": "code",
   "execution_count": 4,
   "metadata": {},
   "outputs": [
    {
     "name": "stdout",
     "output_type": "stream",
     "text": [
      "Model: \"model\"\n",
      "__________________________________________________________________________________________________\n",
      "Layer (type)                    Output Shape         Param #     Connected to                     \n",
      "==================================================================================================\n",
      "Input-Token (InputLayer)        [(None, 512)]        0                                            \n",
      "__________________________________________________________________________________________________\n",
      "Input-Segment (InputLayer)      [(None, 512)]        0                                            \n",
      "__________________________________________________________________________________________________\n",
      "Embedding-Token (TokenEmbedding [(None, 512, 128), ( 3906816     Input-Token[0][0]                \n",
      "__________________________________________________________________________________________________\n",
      "Embedding-Segment (Embedding)   (None, 512, 128)     256         Input-Segment[0][0]              \n",
      "__________________________________________________________________________________________________\n",
      "Embedding-Token-Segment (Add)   (None, 512, 128)     0           Embedding-Token[0][0]            \n",
      "                                                                 Embedding-Segment[0][0]          \n",
      "__________________________________________________________________________________________________\n",
      "Embedding-Position (PositionEmb (None, 512, 128)     65536       Embedding-Token-Segment[0][0]    \n",
      "__________________________________________________________________________________________________\n",
      "Embedding-Dropout (Dropout)     (None, 512, 128)     0           Embedding-Position[0][0]         \n",
      "__________________________________________________________________________________________________\n",
      "Embedding-Norm (LayerNormalizat (None, 512, 128)     256         Embedding-Dropout[0][0]          \n",
      "__________________________________________________________________________________________________\n",
      "Encoder-1-MultiHeadSelfAttentio (None, None, 128)    66048       Embedding-Norm[0][0]             \n",
      "__________________________________________________________________________________________________\n",
      "Encoder-1-MultiHeadSelfAttentio (None, None, 128)    0           Encoder-1-MultiHeadSelfAttention[\n",
      "__________________________________________________________________________________________________\n",
      "Encoder-1-MultiHeadSelfAttentio (None, 512, 128)     0           Embedding-Norm[0][0]             \n",
      "                                                                 Encoder-1-MultiHeadSelfAttention-\n",
      "__________________________________________________________________________________________________\n",
      "Encoder-1-MultiHeadSelfAttentio (None, 512, 128)     256         Encoder-1-MultiHeadSelfAttention-\n",
      "__________________________________________________________________________________________________\n",
      "Encoder-1-FeedForward (FeedForw (None, 512, 128)     131712      Encoder-1-MultiHeadSelfAttention-\n",
      "__________________________________________________________________________________________________\n",
      "Encoder-1-FeedForward-Dropout ( (None, 512, 128)     0           Encoder-1-FeedForward[0][0]      \n",
      "__________________________________________________________________________________________________\n",
      "Encoder-1-FeedForward-Add (Add) (None, 512, 128)     0           Encoder-1-MultiHeadSelfAttention-\n",
      "                                                                 Encoder-1-FeedForward-Dropout[0][\n",
      "__________________________________________________________________________________________________\n",
      "Encoder-1-FeedForward-Norm (Lay (None, 512, 128)     256         Encoder-1-FeedForward-Add[0][0]  \n",
      "__________________________________________________________________________________________________\n",
      "Encoder-2-MultiHeadSelfAttentio (None, None, 128)    66048       Encoder-1-FeedForward-Norm[0][0] \n",
      "__________________________________________________________________________________________________\n",
      "Encoder-2-MultiHeadSelfAttentio (None, None, 128)    0           Encoder-2-MultiHeadSelfAttention[\n",
      "__________________________________________________________________________________________________\n",
      "Encoder-2-MultiHeadSelfAttentio (None, 512, 128)     0           Encoder-1-FeedForward-Norm[0][0] \n",
      "                                                                 Encoder-2-MultiHeadSelfAttention-\n",
      "__________________________________________________________________________________________________\n",
      "Encoder-2-MultiHeadSelfAttentio (None, 512, 128)     256         Encoder-2-MultiHeadSelfAttention-\n",
      "__________________________________________________________________________________________________\n",
      "Encoder-2-FeedForward (FeedForw (None, 512, 128)     131712      Encoder-2-MultiHeadSelfAttention-\n",
      "__________________________________________________________________________________________________\n",
      "Encoder-2-FeedForward-Dropout ( (None, 512, 128)     0           Encoder-2-FeedForward[0][0]      \n",
      "__________________________________________________________________________________________________\n",
      "Encoder-2-FeedForward-Add (Add) (None, 512, 128)     0           Encoder-2-MultiHeadSelfAttention-\n",
      "                                                                 Encoder-2-FeedForward-Dropout[0][\n",
      "__________________________________________________________________________________________________\n",
      "Encoder-2-FeedForward-Norm (Lay (None, 512, 128)     256         Encoder-2-FeedForward-Add[0][0]  \n",
      "__________________________________________________________________________________________________\n",
      "MLM-Dense (Dense)               (None, 512, 128)     16512       Encoder-2-FeedForward-Norm[0][0] \n",
      "__________________________________________________________________________________________________\n",
      "MLM-Norm (LayerNormalization)   (None, 512, 128)     256         MLM-Dense[0][0]                  \n",
      "__________________________________________________________________________________________________\n",
      "Extract (Extract)               (None, 128)          0           Encoder-2-FeedForward-Norm[0][0] \n",
      "__________________________________________________________________________________________________\n",
      "MLM-Sim (EmbeddingSimilarity)   (None, 512, 30522)   30522       MLM-Norm[0][0]                   \n",
      "                                                                 Embedding-Token[0][1]            \n",
      "__________________________________________________________________________________________________\n",
      "Input-Masked (InputLayer)       [(None, 512)]        0                                            \n",
      "__________________________________________________________________________________________________\n",
      "NSP-Dense (Dense)               (None, 128)          16512       Extract[0][0]                    \n",
      "__________________________________________________________________________________________________\n",
      "MLM (Masked)                    (None, 512, 30522)   0           MLM-Sim[0][0]                    \n",
      "                                                                 Input-Masked[0][0]               \n",
      "__________________________________________________________________________________________________\n",
      "NSP (Dense)                     (None, 2)            258         NSP-Dense[0][0]                  \n",
      "==================================================================================================\n",
      "Total params: 4,433,468\n",
      "Trainable params: 4,433,468\n",
      "Non-trainable params: 0\n",
      "__________________________________________________________________________________________________\n"
     ]
    }
   ],
   "source": [
    "model.summary()"
   ]
  },
  {
   "cell_type": "markdown",
   "metadata": {},
   "source": [
    "## Next Sentence Prediction (NSP)\n",
    "\n",
    "Lets play with checking what is probability that the next sente is ok\n",
    "\n",
    "### Example\n",
    "\n",
    "- `Input` = `[CLS] That’s the first sentence. [SEP] Hahaha, nice! [SEP]`\n",
    "- `Label` = `IsNext`"
   ]
  },
  {
   "cell_type": "code",
   "execution_count": 7,
   "metadata": {},
   "outputs": [],
   "source": [
    "bert_models = {'uncased_L-2_H-128_A-2':'uncased_L-2_H-128_A-2',\n",
    "    'uncased_L-2_H-256_A-4':'uncased_L-2_H-256_A-4',\n",
    "              \"uncased_L-12_H-768_A-12\":'uncased_L-12_H-768_A-12'}"
   ]
  },
  {
   "cell_type": "code",
   "execution_count": 13,
   "metadata": {},
   "outputs": [],
   "source": [
    "def compare_senten(sentence_one,sentence_two,  tokenizer, model):\n",
    "\n",
    "    \n",
    "    print('----------------------------------------------------------------------------')\n",
    "    print('1. ',sentence_one, '>>>>  2. ', sentence_two)\n",
    "    print('----------------------------------------------------------------------------\\n')\n",
    "    \n",
    "    tokens_sen_one = tokenizer.tokenize(sentence_one)\n",
    "    tokens_sen_two = tokenizer.tokenize(sentence_two)\n",
    "    \n",
    "    tokens = ['[CLS]'] + tokens_sen_one + ['[SEP]'] + tokens_sen_two + ['[SEP]']\n",
    "    print(tokens)\n",
    "    \n",
    "    #============================\n",
    "    token_input = tokenizer.convert_tokens_to_ids(tokens)\n",
    "    token_input = token_input + [0] * (512 - len(token_input)) #puting o's where there was not enough words\n",
    "    mask_input = [0] * 512 #ccopying 512 times\n",
    "    \n",
    "    seg_input = [0] * 512\n",
    "    len_1 = len(tokens_sen_one) + 2  #first sentence + 2 tokeny: [CLS], [SEP]\n",
    "    for i in range(len(tokens_sen_two)+1): #+1 at the end of second sentence there is  `[SEP]`\n",
    "        seg_input[len_1 + i] = 1\n",
    "    \n",
    "    \n",
    "    \n",
    "#converting to numpy\n",
    "    \n",
    "    if len(token_input) != 2:\n",
    "        token_input = np.asarray([token_input], dtype=np.int32)\n",
    "\n",
    "    if len(mask_input) != 2:\n",
    "        mask_input = np.asarray([mask_input], dtype=np.int16)\n",
    "\n",
    "    if len(seg_input) != 2:\n",
    "        seg_input = np.asarray([seg_input], dtype=np.int16)\n",
    "\n",
    "\n",
    "#     print('shapes :  ', token_input.shape, seg_input.shape, mask_input.shape)\n",
    "    \n",
    "    #=================================================\n",
    "    predicts = model.predict([token_input, seg_input, mask_input])[1] \n",
    "    \n",
    "\n",
    "\n",
    "    return int(round(predicts[0][0]*100))"
   ]
  },
  {
   "cell_type": "code",
   "execution_count": 16,
   "metadata": {},
   "outputs": [
    {
     "name": "stdout",
     "output_type": "stream",
     "text": [
      "uncased_L-2_H-128_A-2\n",
      "loading: uncased_L-2_H-128_A-2\n",
      "vocab size: 30522\n",
      "loaded: uncased_L-2_H-128_A-2\n",
      "----------------------------------------------------------------------------\n",
      "1.  I shot the sheriff  >>>>  2.  It was in self defence\n",
      "----------------------------------------------------------------------------\n",
      "\n",
      "['[CLS]', 'i', 'shot', 'the', 'sheriff', '[SEP]', 'it', 'was', 'in', 'self', 'defence', '[SEP]']\n",
      "NSP probabilty for the sentences is : 13  % \n",
      "===================================================================================\n",
      "\n",
      "\n",
      "uncased_L-2_H-256_A-4\n",
      "loading: uncased_L-2_H-256_A-4\n",
      "vocab size: 30522\n",
      "loaded: uncased_L-2_H-256_A-4\n",
      "----------------------------------------------------------------------------\n",
      "1.  I shot the sheriff  >>>>  2.  It was in self defence\n",
      "----------------------------------------------------------------------------\n",
      "\n",
      "['[CLS]', 'i', 'shot', 'the', 'sheriff', '[SEP]', 'it', 'was', 'in', 'self', 'defence', '[SEP]']\n",
      "NSP probabilty for the sentences is : 11  % \n",
      "===================================================================================\n",
      "\n",
      "\n",
      "uncased_L-12_H-768_A-12\n",
      "loading: uncased_L-12_H-768_A-12\n",
      "vocab size: 30522\n",
      "loaded: uncased_L-12_H-768_A-12\n",
      "----------------------------------------------------------------------------\n",
      "1.  I shot the sheriff  >>>>  2.  It was in self defence\n",
      "----------------------------------------------------------------------------\n",
      "\n",
      "['[CLS]', 'i', 'shot', 'the', 'sheriff', '[SEP]', 'it', 'was', 'in', 'self', 'defence', '[SEP]']\n",
      "NSP probabilty for the sentences is : 100  % \n",
      "===================================================================================\n",
      "\n",
      "\n"
     ]
    }
   ],
   "source": [
    "sentence_one = \"I shot the sheriff \"\n",
    "sentence_two = \"It was in self defence\"\n",
    "\n",
    "for model in bert_models:\n",
    "    print(model)\n",
    "#     print('.............................\\n')\n",
    "    tokenizer, model = init_tokenizer_and_load_bert(model, model_trainable=True)\n",
    "    \n",
    "    res = compare_senten(sentence_one,sentence_two,  tokenizer, model)\n",
    "    print('NSP probabilty for the sentences is :', res,' % ')\n",
    "    print('==========================================================================================\\n\\n')"
   ]
  },
  {
   "cell_type": "code",
   "execution_count": 17,
   "metadata": {},
   "outputs": [
    {
     "name": "stdout",
     "output_type": "stream",
     "text": [
      "uncased_L-2_H-128_A-2\n",
      "loading: uncased_L-2_H-128_A-2\n",
      "vocab size: 30522\n",
      "loaded: uncased_L-2_H-128_A-2\n",
      "----------------------------------------------------------------------------\n",
      "1.  What goes around.  >>>>  2.  Comes around.\n",
      "----------------------------------------------------------------------------\n",
      "\n",
      "['[CLS]', 'what', 'goes', 'around', '.', '[SEP]', 'comes', 'around', '.', '[SEP]']\n",
      "NSP probabilty for the sentences is : 84  % \n",
      "==========================================================================================\n",
      "\n",
      "\n",
      "uncased_L-2_H-256_A-4\n",
      "loading: uncased_L-2_H-256_A-4\n",
      "vocab size: 30522\n",
      "loaded: uncased_L-2_H-256_A-4\n",
      "----------------------------------------------------------------------------\n",
      "1.  What goes around.  >>>>  2.  Comes around.\n",
      "----------------------------------------------------------------------------\n",
      "\n",
      "['[CLS]', 'what', 'goes', 'around', '.', '[SEP]', 'comes', 'around', '.', '[SEP]']\n",
      "NSP probabilty for the sentences is : 79  % \n",
      "==========================================================================================\n",
      "\n",
      "\n",
      "uncased_L-12_H-768_A-12\n",
      "loading: uncased_L-12_H-768_A-12\n",
      "vocab size: 30522\n",
      "loaded: uncased_L-12_H-768_A-12\n",
      "----------------------------------------------------------------------------\n",
      "1.  What goes around.  >>>>  2.  Comes around.\n",
      "----------------------------------------------------------------------------\n",
      "\n",
      "['[CLS]', 'what', 'goes', 'around', '.', '[SEP]', 'comes', 'around', '.', '[SEP]']\n",
      "NSP probabilty for the sentences is : 100  % \n",
      "==========================================================================================\n",
      "\n",
      "\n"
     ]
    }
   ],
   "source": [
    "sentence_one = \"What goes around. \"\n",
    "sentence_two = \"Comes around.\"\n",
    "\n",
    "for model in bert_models:\n",
    "    print(model)\n",
    "#     print('.............................\\n')\n",
    "    tokenizer, model = init_tokenizer_and_load_bert(model, model_trainable=True)\n",
    "    \n",
    "    res = compare_senten(sentence_one,sentence_two,  tokenizer, model)\n",
    "    print('NSP probabilty for the sentences is :', res,' % ')\n",
    "    print('==========================================================================================\\n\\n')"
   ]
  },
  {
   "cell_type": "code",
   "execution_count": null,
   "metadata": {},
   "outputs": [],
   "source": []
  }
 ],
 "metadata": {
  "kernelspec": {
   "display_name": "Python 3",
   "language": "python",
   "name": "python3"
  },
  "language_info": {
   "codemirror_mode": {
    "name": "ipython",
    "version": 3
   },
   "file_extension": ".py",
   "mimetype": "text/x-python",
   "name": "python",
   "nbconvert_exporter": "python",
   "pygments_lexer": "ipython3",
   "version": "3.7.3"
  }
 },
 "nbformat": 4,
 "nbformat_minor": 4
}
