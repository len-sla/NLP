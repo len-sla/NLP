{
 "cells": [
  {
   "cell_type": "markdown",
   "metadata": {},
   "source": [
    "## Playing with BERT base fucionality locally"
   ]
  },
  {
   "cell_type": "markdown",
   "metadata": {},
   "source": [
    "Notebook was inspired by content of https://github.com/google-research/bert.\n",
    "All models from smallest to to standard one could be downloaded from\n",
    "https://storage.googleapis.com/bert_models/2020_02_20/all_bert_models.zip\n",
    "Models were downloaded and uzipped to subirectory models. Everything was done in Conda prepared environment."
   ]
  },
  {
   "cell_type": "markdown",
   "metadata": {},
   "source": [
    "---\n",
    "\n",
    "### Other useful links\n",
    "1. [BERT Explained: A Complete Guide with Theory and Tutorial](https://towardsml.com/2019/09/17/bert-explained-a-complete-guide-with-theory-and-tutorial/)\n",
    "2. [BERT](https://medium.com/@shoray.goel/bert-f6d23b06069f)\n",
    "3. Video [LSTM is dead. Long Live Transformers!](https://www.youtube.com/watch?v=S27pHKBEp30)\n",
    "4. Video [BERT Explained!](https://www.youtube.com/watch?v=OR0wfP2FD3c)\n",
    "5. [What does BERT know about books, movies and music? Probing BERT for Conversational Recommendation](https://arxiv.org/pdf/2007.15356.pdf)\n",
    "6. [SpanBERT: Improving Pre-training by Representing and Predicting Spans](https://arxiv.org/pdf/1907.10529.pdf)\n",
    "\n",
    "---"
   ]
  },
  {
   "cell_type": "markdown",
   "metadata": {},
   "source": [
    "Notebook shows how BERT predicts `[MASK]`-ed words(MLM mode).\n",
    "There is also another mode ie NSP( not presented here).\n",
    "\n",
    "Downloaded different sizes of the BERT models are used \n",
    "token_input, seg_input, mask_input are generated based on given sentence with MASK-ed words\n",
    "`BERT` expect that those 3 vectors will be  512 long : `token_input`, `seg_input` and  `mask_input`.\n",
    "\n",
    "`token_input` as a first token has `[CLS]` and sentence ends with `[SEP]`. In case only one sentence there is one  `[SEP]` if there are two sentences there are two  `[SEP]`.\n",
    "Additionally  `token_input` could have `[MASK]`.\n",
    "Places where  `token_input` has `[MASK]` in vector `mask_input` have \"1\" (other places are \"0\").\n"
   ]
  },
  {
   "cell_type": "code",
   "execution_count": 33,
   "metadata": {},
   "outputs": [],
   "source": [
    "#Required libraries\n",
    "import numpy as np\n",
    "from keras_bert import load_trained_model_from_checkpoint\n",
    "import tokenization # source --> https://github.com/google-research/bert/blob/master/tokenization.py\n"
   ]
  },
  {
   "cell_type": "markdown",
   "metadata": {},
   "source": [
    "First time after downloading tokenisation.py There is need to change as follows :\n",
    "\n",
    "\n",
    "`[before]`\n",
    "- `with tf.gfile.GFile(vocab_file, \"r\") as reader:` [github](https://github.com/google-research/bert/blob/master/tokenization.py#L125)\n",
    "\n",
    "`[after]`\n",
    "- `with tf.io.gfile.GFile(vocab_file, \"r\") as reader:`\n",
    "\n"
   ]
  },
  {
   "cell_type": "code",
   "execution_count": 34,
   "metadata": {},
   "outputs": [],
   "source": [
    "def init_tokenizer_and_load_bert(model_name='uncased_L-2_H-128_A-2', do_lower_case=True, model_trainable=False):\n",
    "    model_dir = './models/{}'.format(model_name)\n",
    "\n",
    "    config_path = model_dir + '/bert_config.json'\n",
    "    checkpoint_path = model_dir +'/bert_model.ckpt'\n",
    "    vocab_path = model_dir + '/vocab.txt'\n",
    "    \n",
    "    print(\"loading: {}\".format(model_name))\n",
    "    \n",
    "    tokenizer = tokenization.FullTokenizer(vocab_file=vocab_path, do_lower_case=do_lower_case)\n",
    "    print(\"vocab size: {}\".format(len(tokenizer.vocab)))\n",
    "    \n",
    "    model = load_trained_model_from_checkpoint(config_path, checkpoint_path, training=model_trainable)\n",
    "    print(\"loaded: {}\".format(model_name))\n",
    "    \n",
    "    return tokenizer, model"
   ]
  },
  {
   "cell_type": "code",
   "execution_count": 35,
   "metadata": {},
   "outputs": [],
   "source": [
    "def guess_words(sentence, tokenizer, model):\n",
    "    \n",
    "    print('Sentence to be processed :  ', sentence )\n",
    "    \n",
    "    TOKEN_MASK = \"[MASK]\"\n",
    "\n",
    "    sentence.split(TOKEN_MASK)\n",
    "    sentence = sentence.replace(' {} '.format(TOKEN_MASK), TOKEN_MASK); \n",
    "    sentence = sentence.replace('{} '.format(TOKEN_MASK), TOKEN_MASK); \n",
    "    sentence = sentence.replace(' {}'.format(TOKEN_MASK), TOKEN_MASK)\n",
    "    sentence.split(TOKEN_MASK)\n",
    "\n",
    "    tokens = ['[CLS]'] #first token\n",
    "\n",
    "    for idx, chunk_sent in enumerate(sentence.split(TOKEN_MASK)):\n",
    "        if idx == 0:\n",
    "            tokens += tokenizer.tokenize(chunk_sent) \n",
    "        else:\n",
    "            tokens +=  [TOKEN_MASK] + tokenizer.tokenize(chunk_sent) \n",
    "\n",
    "    tokens += ['[SEP]']\n",
    "\n",
    "\n",
    "    print(tokens)\n",
    "    token_input = tokenizer.convert_tokens_to_ids(tokens) \n",
    "    print('Tokenized : --->',token_input)\n",
    "    \n",
    "    token_input = token_input + [0] * (512 - len(token_input))\n",
    "    seg_input = [0] * 512 # bo jedno zdanie\n",
    "    \n",
    "    mask_input = [0]*512\n",
    "    for i in range(len(mask_input)):\n",
    "        if token_input[i] == 103:\n",
    "            mask_input[i] = 1\n",
    "\n",
    "    \n",
    "    if len(token_input) != 2:\n",
    "        token_input = np.asarray([token_input], dtype=np.int16)\n",
    "\n",
    "    if len(mask_input) != 2:\n",
    "        mask_input = np.asarray([mask_input], dtype=np.int16)\n",
    "\n",
    "    if len(seg_input) != 2:\n",
    "        seg_input = np.asarray([seg_input], dtype=np.int16)\n",
    "\n",
    "\n",
    "    print('shapes :  ', token_input.shape, seg_input.shape, mask_input.shape) # just to check if shape is OK\n",
    "    \n",
    "    predicts = model.predict([token_input, seg_input, mask_input])[0]\n",
    "    preds_argmax = np.argmax(predicts, axis=2)[0]\n",
    "    result = preds_argmax[:len(tokens)]\n",
    "    \n",
    "    out = []\n",
    "    \n",
    "    \n",
    "    \n",
    "    for i in range(len(mask_input[0])):\n",
    "          if mask_input[0][i] == 1:\n",
    "\n",
    "                out.append(result[i])\n",
    "                out1 = tokenizer.convert_ids_to_tokens(out)\n",
    "                out1 = ' '.join(out1)\n",
    "                out1 = tokenization.printable_text(out1)\n",
    "                out1=out1.replace(' ##','')\n",
    "    \n",
    "    a = out1.split(' ')\n",
    "    for nr, tok in enumerate(tokens):\n",
    "        if tok=='[MASK]':\n",
    "            tokens[nr]=a[0]\n",
    "            del a[0]\n",
    "    guessed_sentence=\" \".join(tokens)\n",
    "\n",
    "    return out1, guessed_sentence"
   ]
  },
  {
   "cell_type": "code",
   "execution_count": 36,
   "metadata": {},
   "outputs": [
    {
     "name": "stdout",
     "output_type": "stream",
     "text": [
      "loading: uncased_L-2_H-128_A-2\n",
      "vocab size: 30522\n",
      "loaded: uncased_L-2_H-128_A-2\n"
     ]
    }
   ],
   "source": [
    "tokenizer, model = init_tokenizer_and_load_bert('uncased_L-2_H-128_A-2', model_trainable=True)"
   ]
  },
  {
   "cell_type": "code",
   "execution_count": 37,
   "metadata": {},
   "outputs": [
    {
     "name": "stdout",
     "output_type": "stream",
     "text": [
      "Model: \"model_10\"\n",
      "__________________________________________________________________________________________________\n",
      "Layer (type)                    Output Shape         Param #     Connected to                     \n",
      "==================================================================================================\n",
      "Input-Token (InputLayer)        [(None, 512)]        0                                            \n",
      "__________________________________________________________________________________________________\n",
      "Input-Segment (InputLayer)      [(None, 512)]        0                                            \n",
      "__________________________________________________________________________________________________\n",
      "Embedding-Token (TokenEmbedding [(None, 512, 128), ( 3906816     Input-Token[0][0]                \n",
      "__________________________________________________________________________________________________\n",
      "Embedding-Segment (Embedding)   (None, 512, 128)     256         Input-Segment[0][0]              \n",
      "__________________________________________________________________________________________________\n",
      "Embedding-Token-Segment (Add)   (None, 512, 128)     0           Embedding-Token[0][0]            \n",
      "                                                                 Embedding-Segment[0][0]          \n",
      "__________________________________________________________________________________________________\n",
      "Embedding-Position (PositionEmb (None, 512, 128)     65536       Embedding-Token-Segment[0][0]    \n",
      "__________________________________________________________________________________________________\n",
      "Embedding-Dropout (Dropout)     (None, 512, 128)     0           Embedding-Position[0][0]         \n",
      "__________________________________________________________________________________________________\n",
      "Embedding-Norm (LayerNormalizat (None, 512, 128)     256         Embedding-Dropout[0][0]          \n",
      "__________________________________________________________________________________________________\n",
      "Encoder-1-MultiHeadSelfAttentio (None, None, 128)    66048       Embedding-Norm[0][0]             \n",
      "__________________________________________________________________________________________________\n",
      "Encoder-1-MultiHeadSelfAttentio (None, None, 128)    0           Encoder-1-MultiHeadSelfAttention[\n",
      "__________________________________________________________________________________________________\n",
      "Encoder-1-MultiHeadSelfAttentio (None, 512, 128)     0           Embedding-Norm[0][0]             \n",
      "                                                                 Encoder-1-MultiHeadSelfAttention-\n",
      "__________________________________________________________________________________________________\n",
      "Encoder-1-MultiHeadSelfAttentio (None, 512, 128)     256         Encoder-1-MultiHeadSelfAttention-\n",
      "__________________________________________________________________________________________________\n",
      "Encoder-1-FeedForward (FeedForw (None, 512, 128)     131712      Encoder-1-MultiHeadSelfAttention-\n",
      "__________________________________________________________________________________________________\n",
      "Encoder-1-FeedForward-Dropout ( (None, 512, 128)     0           Encoder-1-FeedForward[0][0]      \n",
      "__________________________________________________________________________________________________\n",
      "Encoder-1-FeedForward-Add (Add) (None, 512, 128)     0           Encoder-1-MultiHeadSelfAttention-\n",
      "                                                                 Encoder-1-FeedForward-Dropout[0][\n",
      "__________________________________________________________________________________________________\n",
      "Encoder-1-FeedForward-Norm (Lay (None, 512, 128)     256         Encoder-1-FeedForward-Add[0][0]  \n",
      "__________________________________________________________________________________________________\n",
      "Encoder-2-MultiHeadSelfAttentio (None, None, 128)    66048       Encoder-1-FeedForward-Norm[0][0] \n",
      "__________________________________________________________________________________________________\n",
      "Encoder-2-MultiHeadSelfAttentio (None, None, 128)    0           Encoder-2-MultiHeadSelfAttention[\n",
      "__________________________________________________________________________________________________\n",
      "Encoder-2-MultiHeadSelfAttentio (None, 512, 128)     0           Encoder-1-FeedForward-Norm[0][0] \n",
      "                                                                 Encoder-2-MultiHeadSelfAttention-\n",
      "__________________________________________________________________________________________________\n",
      "Encoder-2-MultiHeadSelfAttentio (None, 512, 128)     256         Encoder-2-MultiHeadSelfAttention-\n",
      "__________________________________________________________________________________________________\n",
      "Encoder-2-FeedForward (FeedForw (None, 512, 128)     131712      Encoder-2-MultiHeadSelfAttention-\n",
      "__________________________________________________________________________________________________\n",
      "Encoder-2-FeedForward-Dropout ( (None, 512, 128)     0           Encoder-2-FeedForward[0][0]      \n",
      "__________________________________________________________________________________________________\n",
      "Encoder-2-FeedForward-Add (Add) (None, 512, 128)     0           Encoder-2-MultiHeadSelfAttention-\n",
      "                                                                 Encoder-2-FeedForward-Dropout[0][\n",
      "__________________________________________________________________________________________________\n",
      "Encoder-2-FeedForward-Norm (Lay (None, 512, 128)     256         Encoder-2-FeedForward-Add[0][0]  \n",
      "__________________________________________________________________________________________________\n",
      "MLM-Dense (Dense)               (None, 512, 128)     16512       Encoder-2-FeedForward-Norm[0][0] \n",
      "__________________________________________________________________________________________________\n",
      "MLM-Norm (LayerNormalization)   (None, 512, 128)     256         MLM-Dense[0][0]                  \n",
      "__________________________________________________________________________________________________\n",
      "Extract (Extract)               (None, 128)          0           Encoder-2-FeedForward-Norm[0][0] \n",
      "__________________________________________________________________________________________________\n",
      "MLM-Sim (EmbeddingSimilarity)   (None, 512, 30522)   30522       MLM-Norm[0][0]                   \n",
      "                                                                 Embedding-Token[0][1]            \n",
      "__________________________________________________________________________________________________\n",
      "Input-Masked (InputLayer)       [(None, 512)]        0                                            \n",
      "__________________________________________________________________________________________________\n",
      "NSP-Dense (Dense)               (None, 128)          16512       Extract[0][0]                    \n",
      "__________________________________________________________________________________________________\n",
      "MLM (Masked)                    (None, 512, 30522)   0           MLM-Sim[0][0]                    \n",
      "                                                                 Input-Masked[0][0]               \n",
      "__________________________________________________________________________________________________\n",
      "NSP (Dense)                     (None, 2)            258         NSP-Dense[0][0]                  \n",
      "==================================================================================================\n",
      "Total params: 4,433,468\n",
      "Trainable params: 4,433,468\n",
      "Non-trainable params: 0\n",
      "__________________________________________________________________________________________________\n"
     ]
    }
   ],
   "source": [
    "model.summary()"
   ]
  },
  {
   "cell_type": "code",
   "execution_count": 38,
   "metadata": {},
   "outputs": [],
   "source": [
    "bert_models = {'uncased_L-2_H-128_A-2':'uncased_L-2_H-128_A-2',\n",
    "    'uncased_L-2_H-256_A-4':'uncased_L-2_H-256_A-4',\n",
    "              \"uncased_L-12_H-768_A-12\":'uncased_L-12_H-768_A-12'}"
   ]
  },
  {
   "cell_type": "code",
   "execution_count": 39,
   "metadata": {},
   "outputs": [
    {
     "name": "stdout",
     "output_type": "stream",
     "text": [
      "uncased_L-2_H-128_A-2\n",
      "----------------------------------------------------------------------------\n",
      "\n",
      "loading: uncased_L-2_H-128_A-2\n",
      "vocab size: 30522\n",
      "loaded: uncased_L-2_H-128_A-2\n",
      "Sentence to be processed :   For me the most important thing in  [MASK] is [MASK].\n",
      "['[CLS]', 'for', 'me', 'the', 'most', 'important', 'thing', 'in', '[MASK]', 'is', '[MASK]', '.', '[SEP]']\n",
      "Tokenized : ---> [101, 2005, 2033, 1996, 2087, 2590, 2518, 1999, 103, 2003, 103, 1012, 102]\n",
      "shapes :   (1, 512) (1, 512) (1, 512)\n",
      "Masked words--> ('this important', '[CLS] for me the most important thing in this is important . [SEP]') \n",
      "\n",
      "\n",
      "uncased_L-2_H-256_A-4\n",
      "----------------------------------------------------------------------------\n",
      "\n",
      "loading: uncased_L-2_H-256_A-4\n",
      "vocab size: 30522\n",
      "loaded: uncased_L-2_H-256_A-4\n",
      "Sentence to be processed :   For me the most important thing in  [MASK] is [MASK].\n",
      "['[CLS]', 'for', 'me', 'the', 'most', 'important', 'thing', 'in', '[MASK]', 'is', '[MASK]', '.', '[SEP]']\n",
      "Tokenized : ---> [101, 2005, 2033, 1996, 2087, 2590, 2518, 1999, 103, 2003, 103, 1012, 102]\n",
      "shapes :   (1, 512) (1, 512) (1, 512)\n",
      "Masked words--> ('me important', '[CLS] for me the most important thing in me is important . [SEP]') \n",
      "\n",
      "\n",
      "uncased_L-12_H-768_A-12\n",
      "----------------------------------------------------------------------------\n",
      "\n",
      "loading: uncased_L-12_H-768_A-12\n",
      "vocab size: 30522\n",
      "loaded: uncased_L-12_H-768_A-12\n",
      "Sentence to be processed :   For me the most important thing in  [MASK] is [MASK].\n",
      "['[CLS]', 'for', 'me', 'the', 'most', 'important', 'thing', 'in', '[MASK]', 'is', '[MASK]', '.', '[SEP]']\n",
      "Tokenized : ---> [101, 2005, 2033, 1996, 2087, 2590, 2518, 1999, 103, 2003, 103, 1012, 102]\n",
      "shapes :   (1, 512) (1, 512) (1, 512)\n",
      "Masked words--> ('life love', '[CLS] for me the most important thing in life is love . [SEP]') \n",
      "\n",
      "\n"
     ]
    }
   ],
   "source": [
    "sentence = 'For me the most important thing in  [MASK] is [MASK].'\n",
    "for model in bert_models:\n",
    "    print(model)\n",
    "    print('----------------------------------------------------------------------------\\n')\n",
    "    tokenizer, model = init_tokenizer_and_load_bert(model, model_trainable=True)\n",
    "    res=guess_words(sentence, tokenizer, model)\n",
    "    print('Masked words-->', res, '\\n\\n')"
   ]
  }
 ],
 "metadata": {
  "kernelspec": {
   "display_name": "Python 3",
   "language": "python",
   "name": "python3"
  },
  "language_info": {
   "codemirror_mode": {
    "name": "ipython",
    "version": 3
   },
   "file_extension": ".py",
   "mimetype": "text/x-python",
   "name": "python",
   "nbconvert_exporter": "python",
   "pygments_lexer": "ipython3",
   "version": "3.7.3"
  }
 },
 "nbformat": 4,
 "nbformat_minor": 4
}
